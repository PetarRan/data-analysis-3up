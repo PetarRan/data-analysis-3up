{
 "cells": [
  {
   "cell_type": "code",
   "execution_count": 20,
   "id": "b82c4635",
   "metadata": {},
   "outputs": [],
   "source": [
    "import numpy as np\n",
    "import pandas as pd\n",
    "import dask.dataframe as dd"
   ]
  },
  {
   "cell_type": "code",
   "execution_count": 26,
   "id": "d27fd4c7",
   "metadata": {},
   "outputs": [
    {
     "ename": "SyntaxError",
     "evalue": "unexpected EOF while parsing (<ipython-input-26-99dcc4801853>, line 4)",
     "output_type": "error",
     "traceback": [
      "\u001b[1;36m  File \u001b[1;32m\"<ipython-input-26-99dcc4801853>\"\u001b[1;36m, line \u001b[1;32m4\u001b[0m\n\u001b[1;33m    ##proccess...\u001b[0m\n\u001b[1;37m                 ^\u001b[0m\n\u001b[1;31mSyntaxError\u001b[0m\u001b[1;31m:\u001b[0m unexpected EOF while parsing\n"
     ]
    }
   ],
   "source": [
    "chunksize = 10 ** 6\n",
    "with pd.read_csv('Hackathon_data_final.csv', chunksize=chunksize) as reader:\n",
    "    for chunk in reader:\n",
    "        ##proccess..."
   ]
  },
  {
   "cell_type": "code",
   "execution_count": 38,
   "id": "93f23960",
   "metadata": {},
   "outputs": [],
   "source": [
    "data = pd.read_csv('data-short.csv', sep=' ')"
   ]
  },
  {
   "cell_type": "code",
   "execution_count": 39,
   "id": "07b1c60a",
   "metadata": {},
   "outputs": [
    {
     "data": {
      "text/html": [
       "<div>\n",
       "<style scoped>\n",
       "    .dataframe tbody tr th:only-of-type {\n",
       "        vertical-align: middle;\n",
       "    }\n",
       "\n",
       "    .dataframe tbody tr th {\n",
       "        vertical-align: top;\n",
       "    }\n",
       "\n",
       "    .dataframe thead th {\n",
       "        text-align: right;\n",
       "    }\n",
       "</style>\n",
       "<table border=\"1\" class=\"dataframe\">\n",
       "  <thead>\n",
       "    <tr style=\"text-align: right;\">\n",
       "      <th></th>\n",
       "      <th>TransactionID\\tEntity\\tBillTo\\tShipTo\\tSalesPlan\\tOrderSourceCode\\tOrderType\\tItemNumber\\tInvoiceNumber\\tInvoiceDate\\tQuantityShipped\\tItemPrice\\tItemCost\\tTeleRepID\\tFieldRepID\\tTeleRepName\\tFieldRepName\\tFreightApplies\\tPromoCode\\tDiscountAmount\\tPaymentTerms\\tPaymentTermsDesc\\tAvgDaysLatePayment\\tCreditLiimit\\tSpecialtyCode\\tPhysicianCount\\tCustomerStartDate</th>\n",
       "    </tr>\n",
       "  </thead>\n",
       "  <tbody>\n",
       "    <tr>\n",
       "      <th>0</th>\n",
       "      <td>20181101194177811000\\tP107545\\tB107545\\t287605...</td>\n",
       "    </tr>\n",
       "    <tr>\n",
       "      <th>1</th>\n",
       "      <td>20181101194181071000\\tP602089\\tB602089\\t602089...</td>\n",
       "    </tr>\n",
       "    <tr>\n",
       "      <th>2</th>\n",
       "      <td>20181101194181554000\\tP669486\\tB669486\\t669486...</td>\n",
       "    </tr>\n",
       "    <tr>\n",
       "      <th>3</th>\n",
       "      <td>20181101194182716000\\tHCS02667\\tB912352\\t23928...</td>\n",
       "    </tr>\n",
       "    <tr>\n",
       "      <th>4</th>\n",
       "      <td>20181101194182721000\\tHCS02667\\tB912352\\t23928...</td>\n",
       "    </tr>\n",
       "    <tr>\n",
       "      <th>5</th>\n",
       "      <td>20181101194182726000\\tHCS02667\\tB912352\\t23928...</td>\n",
       "    </tr>\n",
       "    <tr>\n",
       "      <th>6</th>\n",
       "      <td>20181101194182741000\\tP923369\\tB923369\\t923370...</td>\n",
       "    </tr>\n",
       "    <tr>\n",
       "      <th>7</th>\n",
       "      <td>20181101194182771000\\tP929590\\tB929590\\t929591...</td>\n",
       "    </tr>\n",
       "    <tr>\n",
       "      <th>8</th>\n",
       "      <td>20181101194182871000\\tMPH01062\\tB2187841\\t2638...</td>\n",
       "    </tr>\n",
       "    <tr>\n",
       "      <th>9</th>\n",
       "      <td>20181101194183481000\\tHCS02393\\tB1084885\\t1084...</td>\n",
       "    </tr>\n",
       "    <tr>\n",
       "      <th>10</th>\n",
       "      <td>20181101194183541000\\tP1091170\\tB1091170\\t1091...</td>\n",
       "    </tr>\n",
       "    <tr>\n",
       "      <th>11</th>\n",
       "      <td>20181101194183601000\\tP1098812\\tB1098812\\t1098...</td>\n",
       "    </tr>\n",
       "    <tr>\n",
       "      <th>12</th>\n",
       "      <td>20181101194184191000\\tP1234794\\tB1234794\\t1234...</td>\n",
       "    </tr>\n",
       "    <tr>\n",
       "      <th>13</th>\n",
       "      <td>20181101194184391000\\tP1321250\\tB1321250\\t1321...</td>\n",
       "    </tr>\n",
       "  </tbody>\n",
       "</table>\n",
       "</div>"
      ],
      "text/plain": [
       "   TransactionID\\tEntity\\tBillTo\\tShipTo\\tSalesPlan\\tOrderSourceCode\\tOrderType\\tItemNumber\\tInvoiceNumber\\tInvoiceDate\\tQuantityShipped\\tItemPrice\\tItemCost\\tTeleRepID\\tFieldRepID\\tTeleRepName\\tFieldRepName\\tFreightApplies\\tPromoCode\\tDiscountAmount\\tPaymentTerms\\tPaymentTermsDesc\\tAvgDaysLatePayment\\tCreditLiimit\\tSpecialtyCode\\tPhysicianCount\\tCustomerStartDate\n",
       "0   20181101194177811000\\tP107545\\tB107545\\t287605...                                                                                                                                                                                                                                                                                                                         \n",
       "1   20181101194181071000\\tP602089\\tB602089\\t602089...                                                                                                                                                                                                                                                                                                                         \n",
       "2   20181101194181554000\\tP669486\\tB669486\\t669486...                                                                                                                                                                                                                                                                                                                         \n",
       "3   20181101194182716000\\tHCS02667\\tB912352\\t23928...                                                                                                                                                                                                                                                                                                                         \n",
       "4   20181101194182721000\\tHCS02667\\tB912352\\t23928...                                                                                                                                                                                                                                                                                                                         \n",
       "5   20181101194182726000\\tHCS02667\\tB912352\\t23928...                                                                                                                                                                                                                                                                                                                         \n",
       "6   20181101194182741000\\tP923369\\tB923369\\t923370...                                                                                                                                                                                                                                                                                                                         \n",
       "7   20181101194182771000\\tP929590\\tB929590\\t929591...                                                                                                                                                                                                                                                                                                                         \n",
       "8   20181101194182871000\\tMPH01062\\tB2187841\\t2638...                                                                                                                                                                                                                                                                                                                         \n",
       "9   20181101194183481000\\tHCS02393\\tB1084885\\t1084...                                                                                                                                                                                                                                                                                                                         \n",
       "10  20181101194183541000\\tP1091170\\tB1091170\\t1091...                                                                                                                                                                                                                                                                                                                         \n",
       "11  20181101194183601000\\tP1098812\\tB1098812\\t1098...                                                                                                                                                                                                                                                                                                                         \n",
       "12  20181101194184191000\\tP1234794\\tB1234794\\t1234...                                                                                                                                                                                                                                                                                                                         \n",
       "13  20181101194184391000\\tP1321250\\tB1321250\\t1321...                                                                                                                                                                                                                                                                                                                         "
      ]
     },
     "execution_count": 39,
     "metadata": {},
     "output_type": "execute_result"
    }
   ],
   "source": [
    "data"
   ]
  },
  {
   "cell_type": "code",
   "execution_count": null,
   "id": "f79ecf99",
   "metadata": {},
   "outputs": [],
   "source": []
  }
 ],
 "metadata": {
  "kernelspec": {
   "display_name": "Python 3",
   "language": "python",
   "name": "python3"
  },
  "language_info": {
   "codemirror_mode": {
    "name": "ipython",
    "version": 3
   },
   "file_extension": ".py",
   "mimetype": "text/x-python",
   "name": "python",
   "nbconvert_exporter": "python",
   "pygments_lexer": "ipython3",
   "version": "3.8.8"
  }
 },
 "nbformat": 4,
 "nbformat_minor": 5
}
