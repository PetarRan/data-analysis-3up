{
 "cells": [
  {
   "cell_type": "code",
   "execution_count": 3,
   "id": "a02d10da",
   "metadata": {},
   "outputs": [],
   "source": [
    "import numpy as np\n",
    "import pandas as pd\n",
    "import dask.dataframe as dd\n",
    "import sqlite3\n",
    "from sqlalchemy import create_engine\n",
    "import matplotlib.pyplot as plt\n",
    "%matplotlib inline"
   ]
  },
  {
   "cell_type": "code",
   "execution_count": 4,
   "id": "1f402027",
   "metadata": {},
   "outputs": [],
   "source": [
    "file = 'data-short.csv'\n",
    "bigfile='Hackathon_data_final.csv'\n",
    "\n",
    "data = pd.read_csv(bigfile, sep=\"\\t\", nrows=2)\n",
    "##df = dd.read_csv(file, sep=\"\\t\")"
   ]
  },
  {
   "cell_type": "code",
   "execution_count": 5,
   "id": "13d63621",
   "metadata": {},
   "outputs": [],
   "source": [
    "data_columns = data [['BillTo', 'QuantityShipped', 'ItemPrice', 'ItemCost', 'InvoiceDate']]\n",
    "##df_columns = df [['BillTo', 'QuantityShipped', 'ItemPrice', 'ItemCost', 'InvoiceDate']]"
   ]
  },
  {
   "cell_type": "code",
   "execution_count": 6,
   "id": "678cc032",
   "metadata": {},
   "outputs": [
    {
     "data": {
      "text/html": [
       "<div>\n",
       "<style scoped>\n",
       "    .dataframe tbody tr th:only-of-type {\n",
       "        vertical-align: middle;\n",
       "    }\n",
       "\n",
       "    .dataframe tbody tr th {\n",
       "        vertical-align: top;\n",
       "    }\n",
       "\n",
       "    .dataframe thead th {\n",
       "        text-align: right;\n",
       "    }\n",
       "</style>\n",
       "<table border=\"1\" class=\"dataframe\">\n",
       "  <thead>\n",
       "    <tr style=\"text-align: right;\">\n",
       "      <th></th>\n",
       "      <th>TransactionID</th>\n",
       "      <th>Entity</th>\n",
       "      <th>BillTo</th>\n",
       "      <th>ShipTo</th>\n",
       "      <th>SalesPlan</th>\n",
       "      <th>OrderSourceCode</th>\n",
       "      <th>OrderType</th>\n",
       "      <th>ItemNumber</th>\n",
       "      <th>InvoiceNumber</th>\n",
       "      <th>InvoiceDate</th>\n",
       "      <th>...</th>\n",
       "      <th>FreightApplies</th>\n",
       "      <th>PromoCode</th>\n",
       "      <th>DiscountAmount</th>\n",
       "      <th>PaymentTerms</th>\n",
       "      <th>PaymentTermsDesc</th>\n",
       "      <th>AvgDaysLatePayment</th>\n",
       "      <th>CreditLiimit</th>\n",
       "      <th>SpecialtyCode</th>\n",
       "      <th>PhysicianCount</th>\n",
       "      <th>CustomerStartDate</th>\n",
       "    </tr>\n",
       "  </thead>\n",
       "  <tbody>\n",
       "    <tr>\n",
       "      <th>0</th>\n",
       "      <td>20181101194177811000</td>\n",
       "      <td>P107545</td>\n",
       "      <td>B107545</td>\n",
       "      <td>287605</td>\n",
       "      <td>DFT68MPH</td>\n",
       "      <td>I</td>\n",
       "      <td>C</td>\n",
       "      <td>7093218709</td>\n",
       "      <td>19427488</td>\n",
       "      <td>2018-11-01</td>\n",
       "      <td>...</td>\n",
       "      <td>N</td>\n",
       "      <td>NaN</td>\n",
       "      <td>0.0</td>\n",
       "      <td>STM</td>\n",
       "      <td>Statement date + 24 days</td>\n",
       "      <td>0</td>\n",
       "      <td>0</td>\n",
       "      <td>OBGYN</td>\n",
       "      <td>1</td>\n",
       "      <td>20081017</td>\n",
       "    </tr>\n",
       "    <tr>\n",
       "      <th>1</th>\n",
       "      <td>20181101194181071000</td>\n",
       "      <td>P602089</td>\n",
       "      <td>B602089</td>\n",
       "      <td>602089</td>\n",
       "      <td>DFT68MPH</td>\n",
       "      <td>W</td>\n",
       "      <td>C</td>\n",
       "      <td>9004971900</td>\n",
       "      <td>19427814</td>\n",
       "      <td>2018-11-01</td>\n",
       "      <td>...</td>\n",
       "      <td>N</td>\n",
       "      <td>NaN</td>\n",
       "      <td>0.0</td>\n",
       "      <td>STM</td>\n",
       "      <td>Statement date + 24 days</td>\n",
       "      <td>-25</td>\n",
       "      <td>15001</td>\n",
       "      <td>OBGYN</td>\n",
       "      <td>3</td>\n",
       "      <td>20081017</td>\n",
       "    </tr>\n",
       "  </tbody>\n",
       "</table>\n",
       "<p>2 rows × 27 columns</p>\n",
       "</div>"
      ],
      "text/plain": [
       "          TransactionID   Entity   BillTo  ShipTo SalesPlan OrderSourceCode  \\\n",
       "0  20181101194177811000  P107545  B107545  287605  DFT68MPH               I   \n",
       "1  20181101194181071000  P602089  B602089  602089  DFT68MPH               W   \n",
       "\n",
       "  OrderType  ItemNumber  InvoiceNumber InvoiceDate  ...  FreightApplies  \\\n",
       "0         C  7093218709       19427488  2018-11-01  ...               N   \n",
       "1         C  9004971900       19427814  2018-11-01  ...               N   \n",
       "\n",
       "   PromoCode  DiscountAmount PaymentTerms          PaymentTermsDesc  \\\n",
       "0        NaN             0.0          STM  Statement date + 24 days   \n",
       "1        NaN             0.0          STM  Statement date + 24 days   \n",
       "\n",
       "  AvgDaysLatePayment CreditLiimit SpecialtyCode  PhysicianCount  \\\n",
       "0                  0            0         OBGYN               1   \n",
       "1                -25        15001         OBGYN               3   \n",
       "\n",
       "   CustomerStartDate  \n",
       "0           20081017  \n",
       "1           20081017  \n",
       "\n",
       "[2 rows x 27 columns]"
      ]
     },
     "execution_count": 6,
     "metadata": {},
     "output_type": "execute_result"
    }
   ],
   "source": [
    "data"
   ]
  },
  {
   "cell_type": "code",
   "execution_count": 9,
   "id": "8e6f8277",
   "metadata": {},
   "outputs": [],
   "source": [
    "csv_db = create_engine('sqlite:///csv_database.db')"
   ]
  },
  {
   "cell_type": "code",
   "execution_count": 11,
   "id": "b78612cc",
   "metadata": {
    "scrolled": false
   },
   "outputs": [
    {
     "name": "stdout",
     "output_type": "stream",
     "text": [
      "| index: 1000000\n",
      "| index: 3000000\n",
      "| index: 6000000\n",
      "| index: 10000000\n",
      "| index: 15000000\n",
      "| index: 21000000\n",
      "| index: 28000000\n",
      "| index: 36000000\n",
      "| index: 45000000\n",
      "| index: 55000000\n",
      "| index: 66000000\n",
      "| index: 78000000\n",
      "| index: 91000000\n",
      "| index: 105000000\n",
      "| index: 120000000\n",
      "| index: 136000000\n",
      "| index: 153000000\n",
      "| index: 171000000\n",
      "| index: 190000000\n",
      "| index: 210000000\n",
      "| index: 231000000\n",
      "| index: 253000000\n",
      "| index: 276000000\n",
      "| index: 300000000\n",
      "| index: 325000000\n",
      "| index: 351000000\n",
      "| index: 378000000\n",
      "| index: 406000000\n",
      "| index: 435000000\n",
      "| index: 465000000\n",
      "| index: 496000000\n",
      "| index: 528000000\n",
      "| index: 561000000\n",
      "| index: 595000000\n",
      "| index: 630000000\n",
      "| index: 666000000\n",
      "| index: 703000000\n",
      "| index: 741000000\n",
      "| index: 780000000\n",
      "| index: 820000000\n",
      "| index: 861000000\n",
      "| index: 903000000\n",
      "| index: 946000000\n",
      "| index: 990000000\n",
      "| index: 1034733504\n"
     ]
    }
   ],
   "source": [
    "chunksize=1000000\n",
    "i=0\n",
    "j=0\n",
    "\n",
    "for df in pd.read_csv(bigfile,sep=\"\\t\", chunksize=chunksize, iterator=True):\n",
    "    df = df.rename(columns = {c: c.replace(' ','') for c in df.columns})\n",
    "    df.index += j\n",
    "    \n",
    "    df.to_sql('data_use', csv_db, if_exists='append')\n",
    "    j = df.index[-1]+1\n",
    "    print('| index: {}'.format(j))"
   ]
  },
  {
   "cell_type": "code",
   "execution_count": 12,
   "id": "61ba3345",
   "metadata": {},
   "outputs": [
    {
     "data": {
      "text/plain": [
       "Index(['TransactionID', 'Entity', 'BillTo', 'ShipTo', 'SalesPlan',\n",
       "       'OrderSourceCode', 'OrderType', 'ItemNumber', 'InvoiceNumber',\n",
       "       'InvoiceDate', 'QuantityShipped', 'ItemPrice', 'ItemCost', 'TeleRepID',\n",
       "       'FieldRepID', 'TeleRepName', 'FieldRepName', 'FreightApplies',\n",
       "       'PromoCode', 'DiscountAmount', 'PaymentTerms', 'PaymentTermsDesc',\n",
       "       'AvgDaysLatePayment', 'CreditLiimit', 'SpecialtyCode', 'PhysicianCount',\n",
       "       'CustomerStartDate'],\n",
       "      dtype='object')"
      ]
     },
     "execution_count": 12,
     "metadata": {},
     "output_type": "execute_result"
    }
   ],
   "source": [
    "df.columns"
   ]
  },
  {
   "cell_type": "code",
   "execution_count": 14,
   "id": "d9a4beee",
   "metadata": {},
   "outputs": [],
   "source": [
    "data_credit = pd.read_sql_query('SELECT COUNT(OrderType) FROM data_use WHERE OrderType=\"C\"', csv_db)"
   ]
  },
  {
   "cell_type": "code",
   "execution_count": 15,
   "id": "32830e14",
   "metadata": {},
   "outputs": [
    {
     "data": {
      "text/html": [
       "<div>\n",
       "<style scoped>\n",
       "    .dataframe tbody tr th:only-of-type {\n",
       "        vertical-align: middle;\n",
       "    }\n",
       "\n",
       "    .dataframe tbody tr th {\n",
       "        vertical-align: top;\n",
       "    }\n",
       "\n",
       "    .dataframe thead th {\n",
       "        text-align: right;\n",
       "    }\n",
       "</style>\n",
       "<table border=\"1\" class=\"dataframe\">\n",
       "  <thead>\n",
       "    <tr style=\"text-align: right;\">\n",
       "      <th></th>\n",
       "      <th>COUNT(OrderType)</th>\n",
       "    </tr>\n",
       "  </thead>\n",
       "  <tbody>\n",
       "    <tr>\n",
       "      <th>0</th>\n",
       "      <td>1293243</td>\n",
       "    </tr>\n",
       "  </tbody>\n",
       "</table>\n",
       "</div>"
      ],
      "text/plain": [
       "   COUNT(OrderType)\n",
       "0           1293243"
      ]
     },
     "execution_count": 15,
     "metadata": {},
     "output_type": "execute_result"
    }
   ],
   "source": [
    "data_credit"
   ]
  },
  {
   "cell_type": "code",
   "execution_count": 16,
   "id": "5a288826",
   "metadata": {},
   "outputs": [],
   "source": [
    "data_credit_none = pd.read_sql_query('SELECT COUNT(OrderType) FROM data_use WHERE OrderType=\"S\"', csv_db)"
   ]
  },
  {
   "cell_type": "code",
   "execution_count": 17,
   "id": "3e937e17",
   "metadata": {},
   "outputs": [
    {
     "data": {
      "text/html": [
       "<div>\n",
       "<style scoped>\n",
       "    .dataframe tbody tr th:only-of-type {\n",
       "        vertical-align: middle;\n",
       "    }\n",
       "\n",
       "    .dataframe tbody tr th {\n",
       "        vertical-align: top;\n",
       "    }\n",
       "\n",
       "    .dataframe thead th {\n",
       "        text-align: right;\n",
       "    }\n",
       "</style>\n",
       "<table border=\"1\" class=\"dataframe\">\n",
       "  <thead>\n",
       "    <tr style=\"text-align: right;\">\n",
       "      <th></th>\n",
       "      <th>COUNT(OrderType)</th>\n",
       "    </tr>\n",
       "  </thead>\n",
       "  <tbody>\n",
       "    <tr>\n",
       "      <th>0</th>\n",
       "      <td>91173765</td>\n",
       "    </tr>\n",
       "  </tbody>\n",
       "</table>\n",
       "</div>"
      ],
      "text/plain": [
       "   COUNT(OrderType)\n",
       "0          91173765"
      ]
     },
     "execution_count": 17,
     "metadata": {},
     "output_type": "execute_result"
    }
   ],
   "source": [
    "data_credit_none"
   ]
  },
  {
   "cell_type": "code",
   "execution_count": 33,
   "id": "00e4506e",
   "metadata": {},
   "outputs": [
    {
     "data": {
      "text/plain": [
       "([<matplotlib.axis.XTick at 0x1c754c6dca0>,\n",
       "  <matplotlib.axis.XTick at 0x1c754c6d790>],\n",
       " [Text(0, 0, 'Credit'), Text(1, 0, 'No Credit')])"
      ]
     },
     "execution_count": 33,
     "metadata": {},
     "output_type": "execute_result"
    },
    {
     "data": {
      "image/png": "[encoded data removed]",
      "text/plain": [
       "<Figure size 432x288 with 1 Axes>"
      ]
     },
     "metadata": {
      "needs_background": "light"
     },
     "output_type": "display_data"
    }
   ],
   "source": [
    "x = np.arange(2)\n",
    "data_credit = data_credit/(data_credit+data_credit_none)\n",
    "data_credit_none = data_credit_none/(data_credit+data_credit_none)\n",
    "plt.bar(x, height=[data_credit.values[0][0]*100,data_credit_none.values[0][0]*100])\n",
    "plt.xticks(x, ['Credit','No Credit'])\n"
   ]
  },
  {
   "cell_type": "code",
   "execution_count": 143,
   "id": "3ef583ba",
   "metadata": {},
   "outputs": [
    {
     "data": {
      "text/html": [
       "<div>\n",
       "<style scoped>\n",
       "    .dataframe tbody tr th:only-of-type {\n",
       "        vertical-align: middle;\n",
       "    }\n",
       "\n",
       "    .dataframe tbody tr th {\n",
       "        vertical-align: top;\n",
       "    }\n",
       "\n",
       "    .dataframe thead th {\n",
       "        text-align: right;\n",
       "    }\n",
       "</style>\n",
       "<table border=\"1\" class=\"dataframe\">\n",
       "  <thead>\n",
       "    <tr style=\"text-align: right;\">\n",
       "      <th></th>\n",
       "      <th>QuantityShipped</th>\n",
       "      <th>InvoiceDate</th>\n",
       "      <th>BillTo</th>\n",
       "      <th>ItemPrice</th>\n",
       "    </tr>\n",
       "  </thead>\n",
       "  <tbody>\n",
       "    <tr>\n",
       "      <th>0</th>\n",
       "      <td>2</td>\n",
       "      <td>2018-11-08</td>\n",
       "      <td>B1064183</td>\n",
       "      <td>1.60</td>\n",
       "    </tr>\n",
       "    <tr>\n",
       "      <th>1</th>\n",
       "      <td>2</td>\n",
       "      <td>2018-11-12</td>\n",
       "      <td>B1064183</td>\n",
       "      <td>1.60</td>\n",
       "    </tr>\n",
       "    <tr>\n",
       "      <th>2</th>\n",
       "      <td>1</td>\n",
       "      <td>2018-11-12</td>\n",
       "      <td>B1064183</td>\n",
       "      <td>21.26</td>\n",
       "    </tr>\n",
       "    <tr>\n",
       "      <th>3</th>\n",
       "      <td>2</td>\n",
       "      <td>2018-11-19</td>\n",
       "      <td>B1064183</td>\n",
       "      <td>11.33</td>\n",
       "    </tr>\n",
       "    <tr>\n",
       "      <th>4</th>\n",
       "      <td>1</td>\n",
       "      <td>2018-11-19</td>\n",
       "      <td>B1064183</td>\n",
       "      <td>15.34</td>\n",
       "    </tr>\n",
       "    <tr>\n",
       "      <th>...</th>\n",
       "      <td>...</td>\n",
       "      <td>...</td>\n",
       "      <td>...</td>\n",
       "      <td>...</td>\n",
       "    </tr>\n",
       "    <tr>\n",
       "      <th>307</th>\n",
       "      <td>1</td>\n",
       "      <td>2018-11-26</td>\n",
       "      <td>B1064183</td>\n",
       "      <td>19.27</td>\n",
       "    </tr>\n",
       "    <tr>\n",
       "      <th>308</th>\n",
       "      <td>10</td>\n",
       "      <td>2018-11-26</td>\n",
       "      <td>B1064183</td>\n",
       "      <td>4.96</td>\n",
       "    </tr>\n",
       "    <tr>\n",
       "      <th>309</th>\n",
       "      <td>10</td>\n",
       "      <td>2018-11-26</td>\n",
       "      <td>B1064183</td>\n",
       "      <td>4.96</td>\n",
       "    </tr>\n",
       "    <tr>\n",
       "      <th>310</th>\n",
       "      <td>2</td>\n",
       "      <td>2018-12-18</td>\n",
       "      <td>B1064183</td>\n",
       "      <td>4.25</td>\n",
       "    </tr>\n",
       "    <tr>\n",
       "      <th>311</th>\n",
       "      <td>8</td>\n",
       "      <td>2018-12-18</td>\n",
       "      <td>B1064183</td>\n",
       "      <td>0.42</td>\n",
       "    </tr>\n",
       "  </tbody>\n",
       "</table>\n",
       "<p>312 rows × 4 columns</p>\n",
       "</div>"
      ],
      "text/plain": [
       "     QuantityShipped InvoiceDate    BillTo  ItemPrice\n",
       "0                  2  2018-11-08  B1064183       1.60\n",
       "1                  2  2018-11-12  B1064183       1.60\n",
       "2                  1  2018-11-12  B1064183      21.26\n",
       "3                  2  2018-11-19  B1064183      11.33\n",
       "4                  1  2018-11-19  B1064183      15.34\n",
       "..               ...         ...       ...        ...\n",
       "307                1  2018-11-26  B1064183      19.27\n",
       "308               10  2018-11-26  B1064183       4.96\n",
       "309               10  2018-11-26  B1064183       4.96\n",
       "310                2  2018-12-18  B1064183       4.25\n",
       "311                8  2018-12-18  B1064183       0.42\n",
       "\n",
       "[312 rows x 4 columns]"
      ]
     },
     "execution_count": 143,
     "metadata": {},
     "output_type": "execute_result"
    }
   ],
   "source": [
    "pd.read_sql_query('SELECT QuantityShipped,InvoiceDate, BillTo, ItemPrice FROM data_use WHERE BillTo=\"B1064183\" AND InvoiceDate LIKE \"%2018%\" OR \"%2021%\"', csv_db)"
   ]
  },
  {
   "cell_type": "code",
   "execution_count": 134,
   "id": "32d5928a",
   "metadata": {},
   "outputs": [],
   "source": [
    "dataUser1 = data2[data2.BillTo == \"B253855\"]\n",
    "dataUser2 = data2[data2.BillTo == 'B1064183']"
   ]
  },
  {
   "cell_type": "code",
   "execution_count": 142,
   "id": "cd9b19fc",
   "metadata": {},
   "outputs": [
    {
     "data": {
      "text/plain": [
       "([<matplotlib.axis.XTick at 0x1c70862aee0>], [Text(0, 0, '')])"
      ]
     },
     "execution_count": 142,
     "metadata": {},
     "output_type": "execute_result"
    },
    {
     "data": {
      "image/png": "[encoded data removed]",
      "text/plain": [
       "<Figure size 432x288 with 1 Axes>"
      ]
     },
     "metadata": {
      "needs_background": "light"
     },
     "output_type": "display_data"
    }
   ],
   "source": [
    "plt.plot(dataUser1.InvoiceDate, dataUser1.trustFactor)\n",
    "plt.plot(dataUser2.InvoiceDate, dataUser2.trustFactor, 'o')\n",
    "plt.xlabel('Year')\n",
    "plt.title('Customer Spendings')\n",
    "plt.ylabel('Qty*ItemPrice')\n",
    "plt.xlabel('Time')\n",
    "plt.xticks(\"2021\")"
   ]
  },
  {
   "cell_type": "code",
   "execution_count": 144,
   "id": "c37e7327",
   "metadata": {},
   "outputs": [
    {
     "data": {
      "text/html": [
       "<div>\n",
       "<style scoped>\n",
       "    .dataframe tbody tr th:only-of-type {\n",
       "        vertical-align: middle;\n",
       "    }\n",
       "\n",
       "    .dataframe tbody tr th {\n",
       "        vertical-align: top;\n",
       "    }\n",
       "\n",
       "    .dataframe thead th {\n",
       "        text-align: right;\n",
       "    }\n",
       "</style>\n",
       "<table border=\"1\" class=\"dataframe\">\n",
       "  <thead>\n",
       "    <tr style=\"text-align: right;\">\n",
       "      <th></th>\n",
       "      <th>BillTo</th>\n",
       "    </tr>\n",
       "  </thead>\n",
       "  <tbody>\n",
       "    <tr>\n",
       "      <th>0</th>\n",
       "      <td>B107545</td>\n",
       "    </tr>\n",
       "    <tr>\n",
       "      <th>1</th>\n",
       "      <td>B602089</td>\n",
       "    </tr>\n",
       "    <tr>\n",
       "      <th>2</th>\n",
       "      <td>B669486</td>\n",
       "    </tr>\n",
       "    <tr>\n",
       "      <th>3</th>\n",
       "      <td>B912352</td>\n",
       "    </tr>\n",
       "    <tr>\n",
       "      <th>4</th>\n",
       "      <td>B912352</td>\n",
       "    </tr>\n",
       "    <tr>\n",
       "      <th>...</th>\n",
       "      <td>...</td>\n",
       "    </tr>\n",
       "    <tr>\n",
       "      <th>7516743</th>\n",
       "      <td>B1337476</td>\n",
       "    </tr>\n",
       "    <tr>\n",
       "      <th>7516744</th>\n",
       "      <td>B1337476</td>\n",
       "    </tr>\n",
       "    <tr>\n",
       "      <th>7516745</th>\n",
       "      <td>B1337476</td>\n",
       "    </tr>\n",
       "    <tr>\n",
       "      <th>7516746</th>\n",
       "      <td>B1337476</td>\n",
       "    </tr>\n",
       "    <tr>\n",
       "      <th>7516747</th>\n",
       "      <td>B1337476</td>\n",
       "    </tr>\n",
       "  </tbody>\n",
       "</table>\n",
       "<p>7516748 rows × 1 columns</p>\n",
       "</div>"
      ],
      "text/plain": [
       "           BillTo\n",
       "0         B107545\n",
       "1         B602089\n",
       "2         B669486\n",
       "3         B912352\n",
       "4         B912352\n",
       "...           ...\n",
       "7516743  B1337476\n",
       "7516744  B1337476\n",
       "7516745  B1337476\n",
       "7516746  B1337476\n",
       "7516747  B1337476\n",
       "\n",
       "[7516748 rows x 1 columns]"
      ]
     },
     "execution_count": 144,
     "metadata": {},
     "output_type": "execute_result"
    }
   ],
   "source": [
    "ds1 = pd.read_sql_query('SELECT BillTo FROM data_use WHERE InvoiceDate LIKE \"%2018%\"', csv_db)"
   ]
  },
  {
   "cell_type": "code",
   "execution_count": null,
   "id": "2f27e313",
   "metadata": {},
   "outputs": [],
   "source": [
    "ds2 = pd.read_sql_query('SELECT BillTo FROM data_use WHERE InvoiceDate LIKE \"%2019%\"', csv_db)"
   ]
  },
  {
   "cell_type": "code",
   "execution_count": null,
   "id": "b15785fb",
   "metadata": {},
   "outputs": [],
   "source": [
    "ds3 = pd.read_sql_query('SELECT BillTo FROM data_use WHERE InvoiceDate LIKE \"%2020%\"', csv_db)"
   ]
  },
  {
   "cell_type": "code",
   "execution_count": null,
   "id": "e3cc7dcc",
   "metadata": {},
   "outputs": [],
   "source": [
    "ds4 = pd.read_sql_query('SELECT BillTo FROM data_use WHERE InvoiceDate LIKE \"%2021%\"', csv_db)"
   ]
  }
 ],
 "metadata": {
  "kernelspec": {
   "display_name": "Python 3",
   "language": "python",
   "name": "python3"
  },
  "language_info": {
   "codemirror_mode": {
    "name": "ipython",
    "version": 3
   },
   "file_extension": ".py",
   "mimetype": "text/x-python",
   "name": "python",
   "nbconvert_exporter": "python",
   "pygments_lexer": "ipython3",
   "version": "3.8.8"
  }
 },
 "nbformat": 4,
 "nbformat_minor": 5
}
